{
 "cells": [
  {
   "cell_type": "code",
   "execution_count": 2,
   "id": "56ad21e1-d370-4c4c-8e96-f89f40a2780f",
   "metadata": {
    "tags": []
   },
   "outputs": [
    {
     "name": "stdout",
     "output_type": "stream",
     "text": [
      "\n",
      "\u001b[1m[\u001b[0m\u001b[34;49mnotice\u001b[0m\u001b[1;39;49m]\u001b[0m\u001b[39;49m A new release of pip available: \u001b[0m\u001b[31;49m22.2.2\u001b[0m\u001b[39;49m -> \u001b[0m\u001b[32;49m24.2\u001b[0m\n",
      "\u001b[1m[\u001b[0m\u001b[34;49mnotice\u001b[0m\u001b[1;39;49m]\u001b[0m\u001b[39;49m To update, run: \u001b[0m\u001b[32;49mpip install --upgrade pip\u001b[0m\n",
      "Requirement already satisfied: mysql-connector-python in /opt/app-root/lib/python3.9/site-packages (8.3.0)\n",
      "\n",
      "\u001b[1m[\u001b[0m\u001b[34;49mnotice\u001b[0m\u001b[1;39;49m]\u001b[0m\u001b[39;49m A new release of pip available: \u001b[0m\u001b[31;49m22.2.2\u001b[0m\u001b[39;49m -> \u001b[0m\u001b[32;49m24.2\u001b[0m\n",
      "\u001b[1m[\u001b[0m\u001b[34;49mnotice\u001b[0m\u001b[1;39;49m]\u001b[0m\u001b[39;49m To update, run: \u001b[0m\u001b[32;49mpip install --upgrade pip\u001b[0m\n"
     ]
    }
   ],
   "source": [
    "!pip install -q einops==0.7.0 langchain==0.1.9 pypdf==4.0.2 sentence-transformers==2.4.0\n",
    "!pip install mysql-connector-python\n",
    "\n",
    "import os\n",
    "from langchain.document_loaders import PyPDFDirectoryLoader\n",
    "from langchain.text_splitter import RecursiveCharacterTextSplitter\n",
    "import mysql.connector\n",
    "\n",
    "# Caminho para a pasta com os PDFs\n",
    "pdf_folder_path = \"estatutos\"\n",
    "\n",
    "# Carrega os PDFs da pasta\n",
    "pdf_loader = PyPDFDirectoryLoader(pdf_folder_path)\n",
    "pdf_docs = pdf_loader.load()\n",
    "docs = pdf_docs\n",
    "\n",
    "# Divide os documentos em chunks\n",
    "text_splitter = RecursiveCharacterTextSplitter(chunk_size=1024, chunk_overlap=128)\n",
    "all_splits = text_splitter.split_documents(docs)\n",
    "\n",
    "# Configura a conexão com o MariaDB\n",
    "db_connection = mysql.connector.connect(\n",
    "    host=\"mariadb.banco-galicia.svc.cluster.local\",\n",
    "    user=\"\",\n",
    "    password=\"\",\n",
    "    database=\"\"\n",
    ")\n",
    "\n",
    "cursor = db_connection.cursor()\n",
    "\n",
    "# Cria a tabela para armazenar os documentos\n",
    "create_table_query = \"\"\"\n",
    "CREATE TABLE IF NOT EXISTS pdf_documents (\n",
    "    id INT AUTO_INCREMENT PRIMARY KEY,\n",
    "    source VARCHAR(255),\n",
    "    content TEXT\n",
    ")\n",
    "\"\"\"\n",
    "\n",
    "cursor.execute(create_table_query)\n",
    "db_connection.commit()\n",
    "\n",
    "# Insere os documentos na tabela\n",
    "for doc in all_splits:\n",
    "    source = doc.metadata.get('source', '')\n",
    "    content = doc.page_content\n",
    "    insert_query = \"INSERT INTO pdf_documents (source, content) VALUES (%s, %s)\"\n",
    "    cursor.execute(insert_query, (source, content))\n",
    "\n",
    "db_connection.commit()\n",
    "\n",
    "cursor.close()\n",
    "db_connection.close()\n"
   ]
  }
 ],
 "metadata": {
  "kernelspec": {
   "display_name": "Python 3.9",
   "language": "python",
   "name": "python3"
  },
  "language_info": {
   "codemirror_mode": {
    "name": "ipython",
    "version": 3
   },
   "file_extension": ".py",
   "mimetype": "text/x-python",
   "name": "python",
   "nbconvert_exporter": "python",
   "pygments_lexer": "ipython3",
   "version": "3.9.16"
  }
 },
 "nbformat": 4,
 "nbformat_minor": 5
}
