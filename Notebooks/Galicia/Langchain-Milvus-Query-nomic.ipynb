{
 "cells": [
  {
   "cell_type": "markdown",
   "id": "165a3407",
   "metadata": {},
   "source": [
    "## Querying a Milvus index - Nomic AI Embeddings\n",
    "\n",
    "Simple example on how to query content from a Milvus VectorStore. In this example, the embeddings are the fully open source ones released by NomicAI, [nomic-embed-text-v1](https://huggingface.co/nomic-ai/nomic-embed-text-v1).\n",
    "\n",
    "As described in [this blog post](https://blog.nomic.ai/posts/nomic-embed-text-v1), those embeddings feature a \"8192 context-length that outperforms OpenAI Ada-002 and text-embedding-3-small on both short and long context tasks\". In additions, they are:\n",
    "\n",
    "- Open source\n",
    "- Open data\n",
    "- Open training code\n",
    "- Fully reproducible and auditable\n",
    "\n",
    "Requirements:\n",
    "- A Milvus instance, either standalone or cluster."
   ]
  },
  {
   "cell_type": "markdown",
   "id": "48ac3132-6929-4477-9585-31761d7d9848",
   "metadata": {},
   "source": [
    "### Needed packages and imports"
   ]
  },
  {
   "cell_type": "code",
   "execution_count": 1,
   "id": "1ed97389-9c5b-46a8-bedf-f28bf7038a07",
   "metadata": {},
   "outputs": [
    {
     "name": "stdout",
     "output_type": "stream",
     "text": [
      "\u001b[31mERROR: pip's dependency resolver does not currently take into account all the packages that are installed. This behaviour is the source of the following dependency conflicts.\n",
      "langchain-text-splitters 0.3.0 requires langchain-core<0.4.0,>=0.3.0, but you have langchain-core 0.1.52 which is incompatible.\n",
      "langchain-milvus 0.1.5 requires langchain-core<0.4,>=0.2.38; python_version >= \"3.9\", but you have langchain-core 0.1.52 which is incompatible.\n",
      "langchain-milvus 0.1.5 requires pymilvus<3.0.0,>=2.4.3, but you have pymilvus 2.3.6 which is incompatible.\u001b[0m\u001b[31m\n",
      "\u001b[0m\n",
      "\u001b[1m[\u001b[0m\u001b[34;49mnotice\u001b[0m\u001b[1;39;49m]\u001b[0m\u001b[39;49m A new release of pip available: \u001b[0m\u001b[31;49m22.2.2\u001b[0m\u001b[39;49m -> \u001b[0m\u001b[32;49m24.2\u001b[0m\n",
      "\u001b[1m[\u001b[0m\u001b[34;49mnotice\u001b[0m\u001b[1;39;49m]\u001b[0m\u001b[39;49m To update, run: \u001b[0m\u001b[32;49mpip install --upgrade pip\u001b[0m\n"
     ]
    }
   ],
   "source": [
    "!pip install -q einops==0.7.0 langchain==0.1.9 pymilvus==2.3.6 sentence-transformers==2.4.0"
   ]
  },
  {
   "cell_type": "code",
   "execution_count": 2,
   "id": "1c53e798",
   "metadata": {},
   "outputs": [],
   "source": [
    "import os\n",
    "from langchain.embeddings.huggingface import HuggingFaceEmbeddings\n",
    "from langchain_community.vectorstores import Milvus"
   ]
  },
  {
   "cell_type": "markdown",
   "id": "f0b8ecae",
   "metadata": {
    "tags": []
   },
   "source": [
    "### Base parameters, the Milvus connection info"
   ]
  },
  {
   "cell_type": "code",
   "execution_count": 6,
   "id": "9376e567",
   "metadata": {
    "tags": []
   },
   "outputs": [],
   "source": [
    "# Milvus configuration\n",
    "MILVUS_HOST = \"vectordb-milvus.milvus.svc.cluster.local\"\n",
    "MILVUS_PORT = 19530\n",
    "MILVUS_USERNAME = \"\"\n",
    "MILVUS_PASSWORD = \"\"\n",
    "MILVUS_COLLECTION = \"estatutos_galicia\""
   ]
  },
  {
   "cell_type": "markdown",
   "id": "56d51868",
   "metadata": {},
   "source": [
    "### Initialize the connection"
   ]
  },
  {
   "cell_type": "code",
   "execution_count": 7,
   "id": "bbb6a3e3-5ccd-441e-b80d-427555d9e9f6",
   "metadata": {
    "tags": []
   },
   "outputs": [
    {
     "name": "stderr",
     "output_type": "stream",
     "text": [
      "You try to use a model that was created with version 2.4.0.dev0, however, your version is 2.4.0. This might cause unexpected behavior or errors. In that case, try to update to the latest version.\n",
      "\n",
      "\n",
      "\n",
      "/opt/app-root/src/.cache/huggingface/modules/transformers_modules/nomic-ai/nomic-bert-2048/4bb68f63016e88e53e48df904c6ab4e6f718e198/modeling_hf_nomic_bert.py:98: FutureWarning: You are using `torch.load` with `weights_only=False` (the current default value), which uses the default pickle module implicitly. It is possible to construct malicious pickle data which will execute arbitrary code during unpickling (See https://github.com/pytorch/pytorch/blob/main/SECURITY.md#untrusted-models for more details). In a future release, the default value for `weights_only` will be flipped to `True`. This limits the functions that could be executed during unpickling. Arbitrary objects will no longer be allowed to be loaded via this mode unless they are explicitly allowlisted by the user via `torch.serialization.add_safe_globals`. We recommend you start setting `weights_only=True` for any use case where you don't have full control of the loaded file. Please open an issue on GitHub for any issues related to this experimental feature.\n",
      "  state_dict = loader(resolved_archive_file)\n",
      "<All keys matched successfully>\n"
     ]
    }
   ],
   "source": [
    "# If you don't want to use a GPU, you can remove the 'device': 'cuda' argument\n",
    "model_kwargs = {'trust_remote_code': True}\n",
    "embeddings = HuggingFaceEmbeddings(\n",
    "    model_name=\"nomic-ai/nomic-embed-text-v1\",\n",
    "    model_kwargs=model_kwargs,\n",
    "    show_progress=True\n",
    ")\n",
    "\n",
    "store = Milvus(\n",
    "    embedding_function=embeddings,\n",
    "    connection_args={\"host\": MILVUS_HOST, \"port\": MILVUS_PORT, \"user\": MILVUS_USERNAME, \"password\": MILVUS_PASSWORD},\n",
    "    collection_name=MILVUS_COLLECTION,\n",
    "    metadata_field=\"metadata\",\n",
    "    text_field=\"page_content\",\n",
    "    drop_old=False\n",
    "    )"
   ]
  },
  {
   "cell_type": "markdown",
   "id": "9856851c",
   "metadata": {},
   "source": [
    "### Make a query to the index to verify sources"
   ]
  },
  {
   "cell_type": "code",
   "execution_count": 15,
   "id": "9621e231-3541-40bc-85ef-8aa3b2ba2331",
   "metadata": {
    "tags": []
   },
   "outputs": [
    {
     "data": {
      "application/vnd.jupyter.widget-view+json": {
       "model_id": "1eff8675d6e848489a91be6d2f30a4b8",
       "version_major": 2,
       "version_minor": 0
      },
      "text/plain": [
       "Batches:   0%|          | 0/1 [00:00<?, ?it/s]"
      ]
     },
     "metadata": {},
     "output_type": "display_data"
    },
    {
     "name": "stdout",
     "output_type": "stream",
     "text": [
      "estatutos/Estatuto Molinos Rio de la Plata.pdf\n",
      "estatutos/Estatuto TGS.pdf\n"
     ]
    }
   ],
   "source": [
    "query=\"By whom will the Ordinary and/or Extraordinary Assemblies be convened?\"\n",
    "results = store.similarity_search_with_score(query, k=2, return_metadata=True)\n",
    "for result in results:\n",
    "    print(result[0].metadata['source'])"
   ]
  },
  {
   "cell_type": "markdown",
   "id": "f1005e2c",
   "metadata": {},
   "source": [
    "### Work with a retriever"
   ]
  },
  {
   "cell_type": "code",
   "execution_count": 16,
   "id": "566f9347-a40a-4eeb-a690-e199b91947a3",
   "metadata": {
    "tags": []
   },
   "outputs": [],
   "source": [
    "retriever = store.as_retriever(search_type=\"similarity\", search_kwargs={\"k\": 4})"
   ]
  },
  {
   "cell_type": "code",
   "execution_count": 17,
   "id": "1c378fbd-395d-43af-8cca-268bc05d0f51",
   "metadata": {
    "tags": []
   },
   "outputs": [
    {
     "data": {
      "application/vnd.jupyter.widget-view+json": {
       "model_id": "29e42447a3154c6bae375802f803520f",
       "version_major": 2,
       "version_minor": 0
      },
      "text/plain": [
       "Batches:   0%|          | 0/1 [00:00<?, ?it/s]"
      ]
     },
     "metadata": {},
     "output_type": "display_data"
    },
    {
     "data": {
      "text/plain": [
       "[Document(page_content='MOLINOS RIO DE LA PLATA SOCIEDAD ANONIMA  \\nESTATUTO SOCIAL  \\nINSCRIPCIONES EN EL REGISTRO PUBLICO DE COMERCIO  \\n \\nFecha:  10 de Julio de 1931   No. 146  Fo.510   Lo. 43   To.A  \\nFecha:  17 de Setiembre de 1934  No. 156  Fo.270   Lo. 44   To.A  \\nFecha:  21 de Octubre de 1936  No. 214  Fo.534   Lo. 44   To.A  \\nFecha:  11 de Abril de 1938   No. 75   Fo.151   Lo. 45   To.A  \\nFecha:  07 de Junio de 1948   No. 357  Fo.145   Lo. 48   To.A  \\nFecha:  12 de Febrero de 1952   No. 83   Fo.96   Lo. 49  \\n To.A \\nFecha:  07 de Mayo de 1957   No. 535  Fo.365   Lo. 50   To.A  \\nFecha:  24 de Octubre de 1960  No. 3.463  Fo.140   Lo. 53   To.A  \\nFecha:  16 de Abril de 1971   No. 1.128  Fo.161   Lo. 74   To.A  \\nFecha:  04 de Marzo de 1976   No. 354  Fo.10   Lo. 85   To.A  \\nFecha:  08 de Julio de 1977   No. 2.248  Fo. --  Lo. 87   To.A  \\nFecha:  23 de Diciembre de 1977  No. 4.540  Fo. --  Lo. 86   To.A  \\nFecha:  07 de Setiembre de 1979  No. 2.831  Fo. --  Lo. 93   To.A', metadata={'source': 'estatutos/Estatuto Molinos Rio de la Plata.pdf', 'page': 1}),\n",
       " Document(page_content='del Capital Social de la Sociedad o la mayoría de los derechos de voto de la Sociedad. \\n(e) “ Capita l Social ” significa cualquier y todo título accionario, interés, derecho de \\nparticipación, o derechos equivalentes en el capital social de la Sociedad (cualquiera', metadata={'source': 'estatutos/Estatuto TGS.pdf', 'page': 9}),\n",
       " Document(page_content='ESTATUTO  \\nSOCIAL  \\n \\n \\n \\n \\nPágina | 6  \\n \\n \\nCapítulo II. CAPITAL SOCIAL, ACCIONES  \\nArtículo 7: El Capital social es de pesos 76.250.000 , representado por 76.250.000  \\nacciones escriturales  de pesos 1 valor nominal cada una. Cada acción confiere \\nderecho a un voto. El capital puede ser aumentado conforme a las disposiciones \\nlegales vigentes. B&MA no emitirá acciones preferidas y/o acciones de \\nparticipación y/o de voto plural en virtud de encontrarse dentro del régimen de la \\noferta pública.  \\n \\nArtículo 8: Ningún accionista podrá, ni por sí ni por interpósita persona ni \\nmediante la asociación con otros, poseer una tenencia accionaria mayor a la que \\ndisponga la Comisión Nacional de Valores en su Reglamentación. En caso de que \\nen violación a la presente prohibición así lo hiciera, se perderá el derecho a voto \\npor el exceso a dicho porcentual.  \\nCualquier accionista titular de las acciones de B& MA, deberá proceder a transferir', metadata={'source': 'estatutos/Estatuto BYMA.pdf', 'page': 6}),\n",
       " Document(page_content='ESTATUTO  \\nSOCIAL  \\n \\n \\n \\n \\nPágina | 16 \\n \\nCapítulo VII. EJERC ICIO SOCIAL  \\nArtículo 34 : El ejercicio cierra el 31 de diciembre de cada año. A esa fecha, se \\nconfeccionarán los estados contables conforme a las disposiciones en vigencia y \\nnormas técnicas de la materia. La Asamblea puede modificar la fecha de cierre \\ndel e jercicio, debiendo poner en conocimiento de ello a la Comisión Nacional de \\nValores, la cual es la encargada de conformar las modificaciones estatutarias que \\nse pretendan realizar, y q uien mediante resolución remite  toda modificación al \\nRegistro Público de Comercio para su posterior inscripción.  \\nLos beneficios líquidos y realizados se distribuirán de la siguiente manera:  \\na) Un 5% al Fondo de Reserva Legal, hasta alcanzar el 20% del capital suscripto;  \\nb) Un 50%, como mínimo, al Fondo de Garantía del artículo 45 de la Ley N° \\n26.831, hasta el límite  que establezca la reglamentación de la Comisión \\nNacional de Valores. Las sumas acumuladas en este Fondo serán invertidas', metadata={'source': 'estatutos/Estatuto BYMA.pdf', 'page': 16})]"
      ]
     },
     "execution_count": 17,
     "metadata": {},
     "output_type": "execute_result"
    }
   ],
   "source": [
    "docs = retriever.get_relevant_documents(query)\n",
    "docs"
   ]
  }
 ],
 "metadata": {
  "kernelspec": {
   "display_name": "Python 3.9",
   "language": "python",
   "name": "python3"
  },
  "language_info": {
   "codemirror_mode": {
    "name": "ipython",
    "version": 3
   },
   "file_extension": ".py",
   "mimetype": "text/x-python",
   "name": "python",
   "nbconvert_exporter": "python",
   "pygments_lexer": "ipython3",
   "version": "3.9.16"
  }
 },
 "nbformat": 4,
 "nbformat_minor": 5
}
